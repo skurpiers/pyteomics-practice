{
 "cells": [
  {
   "cell_type": "markdown",
   "metadata": {},
   "source": [
    "# Pytemoics Practice - 05/15/2020"
   ]
  },
  {
   "cell_type": "markdown",
   "metadata": {},
   "source": [
    "### The following script utilizes Python & Pyteomics to: \n",
    "1. find and open/read a thermo-fisher .raw 'peptide map' data file\n",
    "2. read in a fasta file with one protein sequence\n",
    "3. 'digest' the sequence with trypsin\n",
    "4. calculate the masses of tryptic peptides; \n",
    "5. calculate the mass-to-charge of all tryptic peptides assuming that they are ionized with +1 to +3 charge states\n",
    "6. \"Search\" the peptide map data for each ion;  \n",
    "7. answer 'how many of the amino acids (% of total) in your protein did you identify?'\n",
    "8. answer 'does this % change if you use a different file?'"
   ]
  },
  {
   "cell_type": "code",
   "execution_count": 1,
   "metadata": {},
   "outputs": [],
   "source": [
    "import os\n",
    "from urllib.request import urlretrieve\n",
    "import gzip\n",
    "import matplotlib.pyplot as plt\n",
    "import numpy as np\n",
    "import pandas as pd\n",
    "from pyteomics import fasta, parser, mass, achrom, electrochem, auxiliary"
   ]
  },
  {
   "cell_type": "code",
   "execution_count": 2,
   "metadata": {},
   "outputs": [],
   "source": [
    "# This code is from a Pyteomics example thats downloads a FASTA database. I was not able to run the code\n",
    "# - I receive an error of 'fails to change directory'. Instead, I downloaded the same file from the website \n",
    "# and accessed it from my computer, rather than downloading directly from the server. \n",
    "\n",
    "#if not os.path.isfile('yeast.fasta.gz'):\n",
    "#    print 'Downloading the FASTA file for Saccharomyces cerevisiae...'\n",
    "#    urlretrieve(\n",
    "#        'ftp://ftp.uniprot.org/pub/databases/uniprot/current_release/'\n",
    "#        'knowledgebase/proteomes/YEAST.fasta.gz',\n",
    "#        'yeast.fasta.gz')\n",
    "#    print 'Done!'"
   ]
  },
  {
   "cell_type": "markdown",
   "metadata": {},
   "source": [
    "Example: https://pyteomics.readthedocs.io/en/stable/examples/example_fasta.html"
   ]
  },
  {
   "cell_type": "markdown",
   "metadata": {},
   "source": [
    "### <font color='blue'> 1) Find and open/read a thermo-fisher .raw 'peptide map' data file </font>"
   ]
  },
  {
   "cell_type": "code",
   "execution_count": 3,
   "metadata": {},
   "outputs": [],
   "source": [
    "# TBD - see email"
   ]
  },
  {
   "cell_type": "markdown",
   "metadata": {},
   "source": [
    "I had a hard time finding publically accesible .raw files, but I was able to practice peptide digestion and calculations on fasta files from UniProt: https://www.uniprot.org"
   ]
  },
  {
   "cell_type": "code",
   "execution_count": 4,
   "metadata": {},
   "outputs": [
    {
     "name": "stdout",
     "output_type": "stream",
     "text": [
      "sp|A0A023PYF4|YE145_YEAST Uncharacterized protein YER145C-A OS=Saccharomyces cerevisiae (strain ATCC 204508 / S288c) (Baker's yeast) OX=559292 GN=SGD:S000028758 PE=3 SV=1\n"
     ]
    }
   ],
   "source": [
    "# This is how to open/read a FASTA file and print the heading.\n",
    "\n",
    "with fasta.read('/Users/sarahkurpiers/Documents/Genentech/yeast.fasta') as yeast:\n",
    "    print(next(yeast).description)"
   ]
  },
  {
   "cell_type": "markdown",
   "metadata": {},
   "source": [
    "# Part 1: Analyzing an entire FASTA file"
   ]
  },
  {
   "cell_type": "markdown",
   "metadata": {},
   "source": [
    "This sections analyzes the entire Fasta file for the Baker's yeast proteome - Saccharomyces cerevisiae (strain ATCC 204508 / S288c). Analysis is limited to sequences with less than 100 residues to save time. Future sections focus on just one protein. Here is the link to data used: https://www.uniprot.org/proteomes/UP000002311"
   ]
  },
  {
   "cell_type": "code",
   "execution_count": 5,
   "metadata": {},
   "outputs": [
    {
     "name": "stdout",
     "output_type": "stream",
     "text": [
      "Cleaving the proteins with trypsin...\n",
      "Done, 188694 sequences obtained!\n"
     ]
    }
   ],
   "source": [
    "# Cleave entire set of proteins and count number of sequences\n",
    "print('Cleaving the proteins with trypsin...')\n",
    "unique_peptides = set()\n",
    "with fasta.read('/Users/sarahkurpiers/Documents/Genentech/yeast.fasta') as yeast:\n",
    "    for descr, seq in yeast:\n",
    "        new_peptides = parser.cleave(seq, parser.expasy_rules['trypsin'])\n",
    "        unique_peptides.update(new_peptides)\n",
    "print('Done, {0} sequences obtained!'.format(len(unique_peptides)))"
   ]
  },
  {
   "cell_type": "code",
   "execution_count": 6,
   "metadata": {},
   "outputs": [],
   "source": [
    "# Create dict of peptides\n",
    "peptides = [{'sequence': i} for i in unique_peptides]\n",
    "\n",
    "# Pre-parse the sequence into individual amino acids, save terminal groups to take into account in mass & charge\n",
    "# Add sequence and parsed sequence to dict\n",
    "for peptide in peptides:\n",
    "    peptide['parsed_sequence'] = parser.parse(peptide['sequence'],show_unmodified_termini=True)\n",
    "    peptide['length'] = parser.length(peptide['parsed_sequence']) \n",
    "    \n",
    "# Limit to peptides with less than 100 residues\n",
    "peptides = [peptide for peptide in peptides if peptide['length'] <= 100]"
   ]
  },
  {
   "cell_type": "code",
   "execution_count": 7,
   "metadata": {},
   "outputs": [
    {
     "data": {
      "text/html": [
       "<div>\n",
       "<style scoped>\n",
       "    .dataframe tbody tr th:only-of-type {\n",
       "        vertical-align: middle;\n",
       "    }\n",
       "\n",
       "    .dataframe tbody tr th {\n",
       "        vertical-align: top;\n",
       "    }\n",
       "\n",
       "    .dataframe thead th {\n",
       "        text-align: right;\n",
       "    }\n",
       "</style>\n",
       "<table border=\"1\" class=\"dataframe\">\n",
       "  <thead>\n",
       "    <tr style=\"text-align: right;\">\n",
       "      <th></th>\n",
       "      <th>RT_RP</th>\n",
       "      <th>RT_normal</th>\n",
       "      <th>charge</th>\n",
       "      <th>length</th>\n",
       "      <th>m/z</th>\n",
       "      <th>mass</th>\n",
       "      <th>parsed_sequence</th>\n",
       "      <th>sequence</th>\n",
       "    </tr>\n",
       "  </thead>\n",
       "  <tbody>\n",
       "    <tr>\n",
       "      <th>0</th>\n",
       "      <td>8.348433</td>\n",
       "      <td>18.363284</td>\n",
       "      <td>3</td>\n",
       "      <td>5</td>\n",
       "      <td>215.094249</td>\n",
       "      <td>642.260919</td>\n",
       "      <td>[H-, H, D, D, E, K, -OH]</td>\n",
       "      <td>HDDEK</td>\n",
       "    </tr>\n",
       "    <tr>\n",
       "      <th>1</th>\n",
       "      <td>25.639098</td>\n",
       "      <td>11.391755</td>\n",
       "      <td>2</td>\n",
       "      <td>7</td>\n",
       "      <td>359.708328</td>\n",
       "      <td>717.402104</td>\n",
       "      <td>[H-, V, T, G, N, I, S, K, -OH]</td>\n",
       "      <td>VTGNISK</td>\n",
       "    </tr>\n",
       "    <tr>\n",
       "      <th>2</th>\n",
       "      <td>35.754229</td>\n",
       "      <td>10.134338</td>\n",
       "      <td>2</td>\n",
       "      <td>8</td>\n",
       "      <td>446.221277</td>\n",
       "      <td>890.428001</td>\n",
       "      <td>[H-, V, N, G, I, S, M, D, R, -OH]</td>\n",
       "      <td>VNGISMDR</td>\n",
       "    </tr>\n",
       "    <tr>\n",
       "      <th>3</th>\n",
       "      <td>53.569863</td>\n",
       "      <td>10.413623</td>\n",
       "      <td>2</td>\n",
       "      <td>11</td>\n",
       "      <td>627.316625</td>\n",
       "      <td>1252.618698</td>\n",
       "      <td>[H-, L, A, L, D, S, Y, I, S, E, D, K, -OH]</td>\n",
       "      <td>LALDSYISEDK</td>\n",
       "    </tr>\n",
       "    <tr>\n",
       "      <th>4</th>\n",
       "      <td>23.876233</td>\n",
       "      <td>10.619276</td>\n",
       "      <td>2</td>\n",
       "      <td>6</td>\n",
       "      <td>350.192845</td>\n",
       "      <td>698.371138</td>\n",
       "      <td>[H-, E, Q, P, G, L, R, -OH]</td>\n",
       "      <td>EQPGLR</td>\n",
       "    </tr>\n",
       "  </tbody>\n",
       "</table>\n",
       "</div>"
      ],
      "text/plain": [
       "       RT_RP  RT_normal  charge  length         m/z         mass  \\\n",
       "0   8.348433  18.363284       3       5  215.094249   642.260919   \n",
       "1  25.639098  11.391755       2       7  359.708328   717.402104   \n",
       "2  35.754229  10.134338       2       8  446.221277   890.428001   \n",
       "3  53.569863  10.413623       2      11  627.316625  1252.618698   \n",
       "4  23.876233  10.619276       2       6  350.192845   698.371138   \n",
       "\n",
       "                              parsed_sequence     sequence  \n",
       "0                    [H-, H, D, D, E, K, -OH]        HDDEK  \n",
       "1              [H-, V, T, G, N, I, S, K, -OH]      VTGNISK  \n",
       "2           [H-, V, N, G, I, S, M, D, R, -OH]     VNGISMDR  \n",
       "3  [H-, L, A, L, D, S, Y, I, S, E, D, K, -OH]  LALDSYISEDK  \n",
       "4                 [H-, E, Q, P, G, L, R, -OH]       EQPGLR  "
      ]
     },
     "execution_count": 7,
     "metadata": {},
     "output_type": "execute_result"
    }
   ],
   "source": [
    "# Add properties to dict including: charge with pH = 2.0, mass, m/z, and \n",
    "# retention time in reversed and normal phase chromatography\n",
    "for peptide in peptides:\n",
    "    peptide['charge'] = int(round(electrochem.charge(peptide['parsed_sequence'], pH=2.0)))\n",
    "    peptide['mass'] = mass.calculate_mass(peptide['parsed_sequence'])\n",
    "    peptide['m/z'] = mass.calculate_mass(peptide['parsed_sequence'], charge=peptide['charge'])\n",
    "    peptide['RT_RP'] = achrom.calculate_RT(peptide['parsed_sequence'],achrom.RCs_zubarev)\n",
    "    peptide['RT_normal'] = achrom.calculate_RT(peptide['parsed_sequence'],achrom.RCs_yoshida_lc)\n",
    "\n",
    "# Create dataframe to store peptide properties in\n",
    "peptidedf = pd.DataFrame.from_dict(peptides)\n",
    "peptidedf.head(5)"
   ]
  },
  {
   "cell_type": "markdown",
   "metadata": {},
   "source": [
    "# Part 2, One Protein Sequence: Protein 1"
   ]
  },
  {
   "cell_type": "markdown",
   "metadata": {},
   "source": [
    "To answer your questions, I chose the first sequence from the Baker's yeast proteome by indexing a dataframe of all of the sequences."
   ]
  },
  {
   "cell_type": "markdown",
   "metadata": {},
   "source": [
    "### <font color='blue'> 2) Read in a fasta file with just one protein sequence  </font> "
   ]
  },
  {
   "cell_type": "code",
   "execution_count": 8,
   "metadata": {},
   "outputs": [
    {
     "data": {
      "text/plain": [
       "'MAILLPLKSILPWCCITFSFLLSSSGSISHSTASSSITLTKSSKPTNVPSNSRFDCSTINTFWLIVLSMTSKGKISGRLILRASVYACECTCIRYACCETIYPPRKPFSLSLYFFYFNKKASILFCYPDAKTKPEHPGNKRAGSG'"
      ]
     },
     "execution_count": 8,
     "metadata": {},
     "output_type": "execute_result"
    }
   ],
   "source": [
    "unique_proteins1 = []\n",
    "with fasta.read('/Users/sarahkurpiers/Documents/Genentech/yeast.fasta') as yeast:\n",
    "    for descr, seq in yeast:\n",
    "        unique_proteins1.append(seq)\n",
    "proteindf1 = pd.DataFrame(unique_proteins1, columns = ['Sequence'])\n",
    "protein1 = proteindf1.iloc[0,0]\n",
    "protein1"
   ]
  },
  {
   "cell_type": "markdown",
   "metadata": {},
   "source": [
    "### <font color='blue'> 3) 'Digest' the sequence with trypsin  </font> "
   ]
  },
  {
   "cell_type": "code",
   "execution_count": 9,
   "metadata": {},
   "outputs": [
    {
     "data": {
      "text/plain": [
       "{'AGSG',\n",
       " 'ASILFCYPDAK',\n",
       " 'ASVYACECTCIR',\n",
       " 'FDCSTINTFWLIVLSMTSK',\n",
       " 'GK',\n",
       " 'ISGR',\n",
       " 'K',\n",
       " 'KPFSLSLYFFYFNK',\n",
       " 'LILR',\n",
       " 'MAILLPLK',\n",
       " 'R',\n",
       " 'SILPWCCITFSFLLSSSGSISHSTASSSITLTK',\n",
       " 'SSKPTNVPSNSR',\n",
       " 'TKPEHPGNK',\n",
       " 'YACCETIYPPR'}"
      ]
     },
     "execution_count": 9,
     "metadata": {},
     "output_type": "execute_result"
    }
   ],
   "source": [
    "# 'Digest' the sequence with trypsin\n",
    "unique_peptides1 = set()\n",
    "new_peptides1 = parser.cleave(protein1, parser.expasy_rules['trypsin'])\n",
    "unique_peptides1.update(new_peptides1)\n",
    "unique_peptides1"
   ]
  },
  {
   "cell_type": "code",
   "execution_count": 10,
   "metadata": {},
   "outputs": [],
   "source": [
    "# Create dict of peptides\n",
    "peptides1 = [{'Sequence': i} for i in unique_peptides1]"
   ]
  },
  {
   "cell_type": "markdown",
   "metadata": {},
   "source": [
    "### <font color='blue'> 4) Calculate the masses of tryptic peptides  </font> "
   ]
  },
  {
   "cell_type": "code",
   "execution_count": 11,
   "metadata": {},
   "outputs": [
    {
     "data": {
      "text/html": [
       "<div>\n",
       "<style scoped>\n",
       "    .dataframe tbody tr th:only-of-type {\n",
       "        vertical-align: middle;\n",
       "    }\n",
       "\n",
       "    .dataframe tbody tr th {\n",
       "        vertical-align: top;\n",
       "    }\n",
       "\n",
       "    .dataframe thead th {\n",
       "        text-align: right;\n",
       "    }\n",
       "</style>\n",
       "<table border=\"1\" class=\"dataframe\">\n",
       "  <thead>\n",
       "    <tr style=\"text-align: right;\">\n",
       "      <th></th>\n",
       "      <th>Mass</th>\n",
       "    </tr>\n",
       "    <tr>\n",
       "      <th>Sequence</th>\n",
       "      <th></th>\n",
       "    </tr>\n",
       "  </thead>\n",
       "  <tbody>\n",
       "    <tr>\n",
       "      <th>SSKPTNVPSNSR</th>\n",
       "      <td>1272.642227</td>\n",
       "    </tr>\n",
       "    <tr>\n",
       "      <th>ISGR</th>\n",
       "      <td>431.249232</td>\n",
       "    </tr>\n",
       "    <tr>\n",
       "      <th>LILR</th>\n",
       "      <td>513.363868</td>\n",
       "    </tr>\n",
       "    <tr>\n",
       "      <th>KPFSLSLYFFYFNK</th>\n",
       "      <td>1799.928679</td>\n",
       "    </tr>\n",
       "    <tr>\n",
       "      <th>AGSG</th>\n",
       "      <td>290.122634</td>\n",
       "    </tr>\n",
       "    <tr>\n",
       "      <th>TKPEHPGNK</th>\n",
       "      <td>1006.519593</td>\n",
       "    </tr>\n",
       "    <tr>\n",
       "      <th>ASVYACECTCIR</th>\n",
       "      <td>1317.551564</td>\n",
       "    </tr>\n",
       "    <tr>\n",
       "      <th>YACCETIYPPR</th>\n",
       "      <td>1314.573679</td>\n",
       "    </tr>\n",
       "    <tr>\n",
       "      <th>SILPWCCITFSFLLSSSGSISHSTASSSITLTK</th>\n",
       "      <td>3460.725829</td>\n",
       "    </tr>\n",
       "    <tr>\n",
       "      <th>R</th>\n",
       "      <td>174.111676</td>\n",
       "    </tr>\n",
       "    <tr>\n",
       "      <th>MAILLPLK</th>\n",
       "      <td>897.572146</td>\n",
       "    </tr>\n",
       "    <tr>\n",
       "      <th>GK</th>\n",
       "      <td>203.126991</td>\n",
       "    </tr>\n",
       "    <tr>\n",
       "      <th>K</th>\n",
       "      <td>146.105528</td>\n",
       "    </tr>\n",
       "    <tr>\n",
       "      <th>FDCSTINTFWLIVLSMTSK</th>\n",
       "      <td>2205.084999</td>\n",
       "    </tr>\n",
       "    <tr>\n",
       "      <th>ASILFCYPDAK</th>\n",
       "      <td>1226.600546</td>\n",
       "    </tr>\n",
       "  </tbody>\n",
       "</table>\n",
       "</div>"
      ],
      "text/plain": [
       "                                          Mass\n",
       "Sequence                                      \n",
       "SSKPTNVPSNSR                       1272.642227\n",
       "ISGR                                431.249232\n",
       "LILR                                513.363868\n",
       "KPFSLSLYFFYFNK                     1799.928679\n",
       "AGSG                                290.122634\n",
       "TKPEHPGNK                          1006.519593\n",
       "ASVYACECTCIR                       1317.551564\n",
       "YACCETIYPPR                        1314.573679\n",
       "SILPWCCITFSFLLSSSGSISHSTASSSITLTK  3460.725829\n",
       "R                                   174.111676\n",
       "MAILLPLK                            897.572146\n",
       "GK                                  203.126991\n",
       "K                                   146.105528\n",
       "FDCSTINTFWLIVLSMTSK                2205.084999\n",
       "ASILFCYPDAK                        1226.600546"
      ]
     },
     "execution_count": 11,
     "metadata": {},
     "output_type": "execute_result"
    }
   ],
   "source": [
    "# Calculate the masses of tryptic peptides and assign to dataframe\n",
    "for peptide in peptides1:\n",
    "    peptide['parsed_sequence'] = parser.parse(peptide['Sequence'],show_unmodified_termini=True)\n",
    "    peptide['length'] = parser.length(peptide['parsed_sequence']) \n",
    "    peptide['Mass'] = mass.calculate_mass(peptide['parsed_sequence'])\n",
    "peptidemass1 = pd.DataFrame(peptides1)\n",
    "columns_to_keep = ['Sequence', 'Mass']\n",
    "peptidemass1 = peptidemass1[columns_to_keep]\n",
    "peptidemass1 = peptidemass1.set_index('Sequence')\n",
    "peptidemass1"
   ]
  },
  {
   "cell_type": "markdown",
   "metadata": {},
   "source": [
    "### <font color='blue'> 5) Calculate the mass-to-charge of all tryptic peptides assuming they are ionized with +1 to +3 charge states  </font> "
   ]
  },
  {
   "cell_type": "code",
   "execution_count": 12,
   "metadata": {},
   "outputs": [
    {
     "data": {
      "text/html": [
       "<div>\n",
       "<style scoped>\n",
       "    .dataframe tbody tr th:only-of-type {\n",
       "        vertical-align: middle;\n",
       "    }\n",
       "\n",
       "    .dataframe tbody tr th {\n",
       "        vertical-align: top;\n",
       "    }\n",
       "\n",
       "    .dataframe thead th {\n",
       "        text-align: right;\n",
       "    }\n",
       "</style>\n",
       "<table border=\"1\" class=\"dataframe\">\n",
       "  <thead>\n",
       "    <tr style=\"text-align: right;\">\n",
       "      <th></th>\n",
       "      <th>Mass</th>\n",
       "      <th>M/z +1 charge state</th>\n",
       "      <th>M/z +2 charge state</th>\n",
       "      <th>M/z +3 charge state</th>\n",
       "    </tr>\n",
       "    <tr>\n",
       "      <th>Sequence</th>\n",
       "      <th></th>\n",
       "      <th></th>\n",
       "      <th></th>\n",
       "      <th></th>\n",
       "    </tr>\n",
       "  </thead>\n",
       "  <tbody>\n",
       "    <tr>\n",
       "      <th>SSKPTNVPSNSR</th>\n",
       "      <td>1272.642227</td>\n",
       "      <td>1273.649504</td>\n",
       "      <td>637.328390</td>\n",
       "      <td>425.221352</td>\n",
       "    </tr>\n",
       "    <tr>\n",
       "      <th>ISGR</th>\n",
       "      <td>431.249232</td>\n",
       "      <td>432.256508</td>\n",
       "      <td>216.631892</td>\n",
       "      <td>144.757020</td>\n",
       "    </tr>\n",
       "    <tr>\n",
       "      <th>LILR</th>\n",
       "      <td>513.363868</td>\n",
       "      <td>514.371144</td>\n",
       "      <td>257.689210</td>\n",
       "      <td>172.128566</td>\n",
       "    </tr>\n",
       "    <tr>\n",
       "      <th>KPFSLSLYFFYFNK</th>\n",
       "      <td>1799.928679</td>\n",
       "      <td>1800.935956</td>\n",
       "      <td>900.971616</td>\n",
       "      <td>600.983503</td>\n",
       "    </tr>\n",
       "    <tr>\n",
       "      <th>AGSG</th>\n",
       "      <td>290.122634</td>\n",
       "      <td>291.129911</td>\n",
       "      <td>146.068594</td>\n",
       "      <td>97.714821</td>\n",
       "    </tr>\n",
       "    <tr>\n",
       "      <th>TKPEHPGNK</th>\n",
       "      <td>1006.519593</td>\n",
       "      <td>1007.526869</td>\n",
       "      <td>504.267073</td>\n",
       "      <td>336.513807</td>\n",
       "    </tr>\n",
       "    <tr>\n",
       "      <th>ASVYACECTCIR</th>\n",
       "      <td>1317.551564</td>\n",
       "      <td>1318.558840</td>\n",
       "      <td>659.783058</td>\n",
       "      <td>440.191131</td>\n",
       "    </tr>\n",
       "    <tr>\n",
       "      <th>YACCETIYPPR</th>\n",
       "      <td>1314.573679</td>\n",
       "      <td>1315.580956</td>\n",
       "      <td>658.294116</td>\n",
       "      <td>439.198503</td>\n",
       "    </tr>\n",
       "    <tr>\n",
       "      <th>SILPWCCITFSFLLSSSGSISHSTASSSITLTK</th>\n",
       "      <td>3460.725829</td>\n",
       "      <td>3461.733106</td>\n",
       "      <td>1731.370191</td>\n",
       "      <td>1154.582553</td>\n",
       "    </tr>\n",
       "    <tr>\n",
       "      <th>R</th>\n",
       "      <td>174.111676</td>\n",
       "      <td>175.118952</td>\n",
       "      <td>88.063114</td>\n",
       "      <td>59.044502</td>\n",
       "    </tr>\n",
       "    <tr>\n",
       "      <th>MAILLPLK</th>\n",
       "      <td>897.572146</td>\n",
       "      <td>898.579423</td>\n",
       "      <td>449.793350</td>\n",
       "      <td>300.197992</td>\n",
       "    </tr>\n",
       "    <tr>\n",
       "      <th>GK</th>\n",
       "      <td>203.126991</td>\n",
       "      <td>204.134268</td>\n",
       "      <td>102.570772</td>\n",
       "      <td>68.716274</td>\n",
       "    </tr>\n",
       "    <tr>\n",
       "      <th>K</th>\n",
       "      <td>146.105528</td>\n",
       "      <td>147.112804</td>\n",
       "      <td>74.060040</td>\n",
       "      <td>49.709119</td>\n",
       "    </tr>\n",
       "    <tr>\n",
       "      <th>FDCSTINTFWLIVLSMTSK</th>\n",
       "      <td>2205.084999</td>\n",
       "      <td>2206.092276</td>\n",
       "      <td>1103.549776</td>\n",
       "      <td>736.035609</td>\n",
       "    </tr>\n",
       "    <tr>\n",
       "      <th>ASILFCYPDAK</th>\n",
       "      <td>1226.600546</td>\n",
       "      <td>1227.607822</td>\n",
       "      <td>614.307549</td>\n",
       "      <td>409.874125</td>\n",
       "    </tr>\n",
       "  </tbody>\n",
       "</table>\n",
       "</div>"
      ],
      "text/plain": [
       "                                          Mass  M/z +1 charge state  \\\n",
       "Sequence                                                              \n",
       "SSKPTNVPSNSR                       1272.642227          1273.649504   \n",
       "ISGR                                431.249232           432.256508   \n",
       "LILR                                513.363868           514.371144   \n",
       "KPFSLSLYFFYFNK                     1799.928679          1800.935956   \n",
       "AGSG                                290.122634           291.129911   \n",
       "TKPEHPGNK                          1006.519593          1007.526869   \n",
       "ASVYACECTCIR                       1317.551564          1318.558840   \n",
       "YACCETIYPPR                        1314.573679          1315.580956   \n",
       "SILPWCCITFSFLLSSSGSISHSTASSSITLTK  3460.725829          3461.733106   \n",
       "R                                   174.111676           175.118952   \n",
       "MAILLPLK                            897.572146           898.579423   \n",
       "GK                                  203.126991           204.134268   \n",
       "K                                   146.105528           147.112804   \n",
       "FDCSTINTFWLIVLSMTSK                2205.084999          2206.092276   \n",
       "ASILFCYPDAK                        1226.600546          1227.607822   \n",
       "\n",
       "                                   M/z +2 charge state  M/z +3 charge state  \n",
       "Sequence                                                                     \n",
       "SSKPTNVPSNSR                                637.328390           425.221352  \n",
       "ISGR                                        216.631892           144.757020  \n",
       "LILR                                        257.689210           172.128566  \n",
       "KPFSLSLYFFYFNK                              900.971616           600.983503  \n",
       "AGSG                                        146.068594            97.714821  \n",
       "TKPEHPGNK                                   504.267073           336.513807  \n",
       "ASVYACECTCIR                                659.783058           440.191131  \n",
       "YACCETIYPPR                                 658.294116           439.198503  \n",
       "SILPWCCITFSFLLSSSGSISHSTASSSITLTK          1731.370191          1154.582553  \n",
       "R                                            88.063114            59.044502  \n",
       "MAILLPLK                                    449.793350           300.197992  \n",
       "GK                                          102.570772            68.716274  \n",
       "K                                            74.060040            49.709119  \n",
       "FDCSTINTFWLIVLSMTSK                        1103.549776           736.035609  \n",
       "ASILFCYPDAK                                 614.307549           409.874125  "
      ]
     },
     "execution_count": 12,
     "metadata": {},
     "output_type": "execute_result"
    }
   ],
   "source": [
    "# Create dataframe with mass-to-charge of all tryptic peptides assuming they are ionized with +1 to +3 charge states\n",
    "for peptide in peptides1:\n",
    "    peptide['parsed_sequence'] = parser.parse(peptide['Sequence'],show_unmodified_termini=True)\n",
    "    peptide['length'] = parser.length(peptide['parsed_sequence']) \n",
    "    peptide['Mass'] = mass.calculate_mass(peptide['parsed_sequence'])\n",
    "    peptide['M/z +1 charge state'] = mass.calculate_mass(peptide['parsed_sequence'], charge=1)\n",
    "    peptide['M/z +2 charge state'] = mass.calculate_mass(peptide['parsed_sequence'], charge=2)\n",
    "    peptide['M/z +3 charge state'] = mass.calculate_mass(peptide['parsed_sequence'], charge=3)\n",
    "peptidemz1 = pd.DataFrame(peptides1)\n",
    "columns_to_keep = ['Sequence', 'Mass', 'M/z +1 charge state', 'M/z +2 charge state', 'M/z +3 charge state']\n",
    "peptidemz1 = peptidemz1[columns_to_keep]\n",
    "peptidemz1 = peptidemz1.set_index('Sequence')\n",
    "peptidemz1"
   ]
  },
  {
   "cell_type": "markdown",
   "metadata": {},
   "source": [
    "### <font color='blue'> 6) 'Search' the peptide map data for each ion </font>  "
   ]
  },
  {
   "cell_type": "code",
   "execution_count": 13,
   "metadata": {},
   "outputs": [],
   "source": [
    "# TBD"
   ]
  },
  {
   "cell_type": "code",
   "execution_count": null,
   "metadata": {},
   "outputs": [],
   "source": []
  },
  {
   "cell_type": "markdown",
   "metadata": {},
   "source": [
    "### <font color='blue'> 7) How many amino acids (% of total) are in the protein? </font>  "
   ]
  },
  {
   "cell_type": "code",
   "execution_count": 14,
   "metadata": {},
   "outputs": [
    {
     "data": {
      "text/plain": [
       "BasicComposition({'M': 2, 'A': 8, 'I': 12, 'L': 14, 'P': 10, 'K': 11, 'S': 24, 'W': 2, 'C': 9, 'T': 11, 'F': 9, 'G': 6, 'H': 2, 'N': 5, 'V': 3, 'R': 6, 'D': 2, 'Y': 6, 'E': 3})"
      ]
     },
     "execution_count": 14,
     "metadata": {},
     "output_type": "execute_result"
    }
   ],
   "source": [
    "# Determine amino acid composition of the protein\n",
    "aacomp1 = parser.amino_acid_composition(protein1)\n",
    "aacomp1"
   ]
  },
  {
   "cell_type": "code",
   "execution_count": 15,
   "metadata": {},
   "outputs": [
    {
     "data": {
      "text/plain": [
       "pyteomics.auxiliary.structures.BasicComposition"
      ]
     },
     "execution_count": 15,
     "metadata": {},
     "output_type": "execute_result"
    }
   ],
   "source": [
    "type(aacomp1)"
   ]
  },
  {
   "cell_type": "code",
   "execution_count": 16,
   "metadata": {},
   "outputs": [
    {
     "data": {
      "text/html": [
       "<div>\n",
       "<style scoped>\n",
       "    .dataframe tbody tr th:only-of-type {\n",
       "        vertical-align: middle;\n",
       "    }\n",
       "\n",
       "    .dataframe tbody tr th {\n",
       "        vertical-align: top;\n",
       "    }\n",
       "\n",
       "    .dataframe thead th {\n",
       "        text-align: right;\n",
       "    }\n",
       "</style>\n",
       "<table border=\"1\" class=\"dataframe\">\n",
       "  <thead>\n",
       "    <tr style=\"text-align: right;\">\n",
       "      <th></th>\n",
       "      <th>Number of Residues</th>\n",
       "      <th>% of Total</th>\n",
       "    </tr>\n",
       "    <tr>\n",
       "      <th>Yeast Protein 1 Amino Acids</th>\n",
       "      <th></th>\n",
       "      <th></th>\n",
       "    </tr>\n",
       "  </thead>\n",
       "  <tbody>\n",
       "    <tr>\n",
       "      <th>M</th>\n",
       "      <td>2</td>\n",
       "      <td>1.379310</td>\n",
       "    </tr>\n",
       "    <tr>\n",
       "      <th>A</th>\n",
       "      <td>8</td>\n",
       "      <td>5.517241</td>\n",
       "    </tr>\n",
       "    <tr>\n",
       "      <th>I</th>\n",
       "      <td>12</td>\n",
       "      <td>8.275862</td>\n",
       "    </tr>\n",
       "    <tr>\n",
       "      <th>L</th>\n",
       "      <td>14</td>\n",
       "      <td>9.655172</td>\n",
       "    </tr>\n",
       "    <tr>\n",
       "      <th>P</th>\n",
       "      <td>10</td>\n",
       "      <td>6.896552</td>\n",
       "    </tr>\n",
       "    <tr>\n",
       "      <th>K</th>\n",
       "      <td>11</td>\n",
       "      <td>7.586207</td>\n",
       "    </tr>\n",
       "    <tr>\n",
       "      <th>S</th>\n",
       "      <td>24</td>\n",
       "      <td>16.551724</td>\n",
       "    </tr>\n",
       "    <tr>\n",
       "      <th>W</th>\n",
       "      <td>2</td>\n",
       "      <td>1.379310</td>\n",
       "    </tr>\n",
       "    <tr>\n",
       "      <th>C</th>\n",
       "      <td>9</td>\n",
       "      <td>6.206897</td>\n",
       "    </tr>\n",
       "    <tr>\n",
       "      <th>T</th>\n",
       "      <td>11</td>\n",
       "      <td>7.586207</td>\n",
       "    </tr>\n",
       "    <tr>\n",
       "      <th>F</th>\n",
       "      <td>9</td>\n",
       "      <td>6.206897</td>\n",
       "    </tr>\n",
       "    <tr>\n",
       "      <th>G</th>\n",
       "      <td>6</td>\n",
       "      <td>4.137931</td>\n",
       "    </tr>\n",
       "    <tr>\n",
       "      <th>H</th>\n",
       "      <td>2</td>\n",
       "      <td>1.379310</td>\n",
       "    </tr>\n",
       "    <tr>\n",
       "      <th>N</th>\n",
       "      <td>5</td>\n",
       "      <td>3.448276</td>\n",
       "    </tr>\n",
       "    <tr>\n",
       "      <th>V</th>\n",
       "      <td>3</td>\n",
       "      <td>2.068966</td>\n",
       "    </tr>\n",
       "    <tr>\n",
       "      <th>R</th>\n",
       "      <td>6</td>\n",
       "      <td>4.137931</td>\n",
       "    </tr>\n",
       "    <tr>\n",
       "      <th>D</th>\n",
       "      <td>2</td>\n",
       "      <td>1.379310</td>\n",
       "    </tr>\n",
       "    <tr>\n",
       "      <th>Y</th>\n",
       "      <td>6</td>\n",
       "      <td>4.137931</td>\n",
       "    </tr>\n",
       "    <tr>\n",
       "      <th>E</th>\n",
       "      <td>3</td>\n",
       "      <td>2.068966</td>\n",
       "    </tr>\n",
       "  </tbody>\n",
       "</table>\n",
       "</div>"
      ],
      "text/plain": [
       "                             Number of Residues  % of Total\n",
       "Yeast Protein 1 Amino Acids                                \n",
       "M                                             2    1.379310\n",
       "A                                             8    5.517241\n",
       "I                                            12    8.275862\n",
       "L                                            14    9.655172\n",
       "P                                            10    6.896552\n",
       "K                                            11    7.586207\n",
       "S                                            24   16.551724\n",
       "W                                             2    1.379310\n",
       "C                                             9    6.206897\n",
       "T                                            11    7.586207\n",
       "F                                             9    6.206897\n",
       "G                                             6    4.137931\n",
       "H                                             2    1.379310\n",
       "N                                             5    3.448276\n",
       "V                                             3    2.068966\n",
       "R                                             6    4.137931\n",
       "D                                             2    1.379310\n",
       "Y                                             6    4.137931\n",
       "E                                             3    2.068966"
      ]
     },
     "execution_count": 16,
     "metadata": {},
     "output_type": "execute_result"
    }
   ],
   "source": [
    "# Split dictionary into keys and values\n",
    "aakeys1 = aacomp1.keys() \n",
    "aavalues1 = aacomp1.values()\n",
    "\n",
    "# Create DataFrame for amino acids in protein\n",
    "aacompdf1 = pd.DataFrame(aavalues1, index = aakeys1)\n",
    "aacompdf1 = aacompdf1.rename_axis('Yeast Protein 1 Amino Acids')\n",
    "aacompdf1 = aacompdf1.rename(columns={0: 'Number of Residues'})\n",
    "\n",
    "# Calculate individual amino acid % of total\n",
    "aacompdf1['% of Total'] = (aacompdf1['Number of Residues'])/(aacompdf1['Number of Residues'].sum())*100\n",
    "aacompdf1"
   ]
  },
  {
   "cell_type": "markdown",
   "metadata": {},
   "source": [
    "### <font color='blue'> 8) Does this % change if you use a different file? </font>  "
   ]
  },
  {
   "cell_type": "markdown",
   "metadata": {},
   "source": [
    "Yes, the % of each amino acid changes using different files. See below:"
   ]
  },
  {
   "cell_type": "markdown",
   "metadata": {},
   "source": [
    "## Protein 2\n",
    "#### I repeated the pocess using E.Coli and selecting the first protein sequence. Here is the link to Escherichia coli (strain K12) data used: https://www.uniprot.org/proteomes/UP000000625"
   ]
  },
  {
   "cell_type": "code",
   "execution_count": 17,
   "metadata": {},
   "outputs": [
    {
     "data": {
      "text/plain": [
       "'MPVLQWGMLCVLSLLLSIGFLAVHLPAALLLGPMIAGIIFSMRGITLQLPRSAFLAAQAILGCMIAQNLTGSILTTLAVNWPIVLAILLVTLLSSAIVGWLLVRYSSLPGNTGAWGSSPGGAAAMVAMAQDYGADIRLVAFMQYLRVLFVAGAAVLVTRMMLGDNAEAVNQHIVWFPPVSINLLLTILLAVVAGTVGCLLRLPSGTMLIPMLAGAVLQSGQLITIELPEWLLAMAYMAIGWRIGLGFDKQILLRALRPLPQILLSIFALLAICAGMAWGLTRFMHIDFMTAYLATSPGGLDTVAVIAAGSNADMALIMAMQTLRLFSILLTGPAIARFISTYAPKRSA'"
      ]
     },
     "execution_count": 17,
     "metadata": {},
     "output_type": "execute_result"
    }
   ],
   "source": [
    "# Read in a fasta file with just one protein sequence\n",
    "unique_proteins2 = []\n",
    "with fasta.read('/Users/sarahkurpiers/Documents/Genentech/ECOLI.fasta') as ecoli:\n",
    "    for descr, seq in ecoli:\n",
    "        unique_proteins2.append(seq)\n",
    "proteindf2 = pd.DataFrame(unique_proteins2, columns = ['Sequence'])\n",
    "ecoliprotein1 = proteindf2.iloc[0,0]\n",
    "ecoliprotein1"
   ]
  },
  {
   "cell_type": "code",
   "execution_count": 18,
   "metadata": {},
   "outputs": [
    {
     "data": {
      "text/plain": [
       "{'ALRPLPQILLSIFALLAICAGMAWGLTR',\n",
       " 'FISTYAPK',\n",
       " 'FMHIDFMTAYLATSPGGLDTVAVIAAGSNADMALIMAMQTLR',\n",
       " 'GITLQLPR',\n",
       " 'IGLGFDK',\n",
       " 'LFSILLTGPAIAR',\n",
       " 'LPSGTMLIPMLAGAVLQSGQLITIELPEWLLAMAYMAIGWR',\n",
       " 'LVAFMQYLR',\n",
       " 'MMLGDNAEAVNQHIVWFPPVSINLLLTILLAVVAGTVGCLLR',\n",
       " 'MPVLQWGMLCVLSLLLSIGFLAVHLPAALLLGPMIAGIIFSMR',\n",
       " 'QILLR',\n",
       " 'R',\n",
       " 'SA',\n",
       " 'SAFLAAQAILGCMIAQNLTGSILTTLAVNWPIVLAILLVTLLSSAIVGWLLVR',\n",
       " 'VLFVAGAAVLVTR',\n",
       " 'YSSLPGNTGAWGSSPGGAAAMVAMAQDYGADIR'}"
      ]
     },
     "execution_count": 18,
     "metadata": {},
     "output_type": "execute_result"
    }
   ],
   "source": [
    "# 'Digest' the sequence with trypsin\n",
    "unique_peptides2 = set()\n",
    "new_peptides2 = parser.cleave(ecoliprotein1, parser.expasy_rules['trypsin'])\n",
    "unique_peptides2.update(new_peptides2)\n",
    "unique_peptides2"
   ]
  },
  {
   "cell_type": "code",
   "execution_count": 19,
   "metadata": {},
   "outputs": [],
   "source": [
    "# Create dict of peptides\n",
    "peptides2 = [{'Sequence': i} for i in unique_peptides2]"
   ]
  },
  {
   "cell_type": "code",
   "execution_count": 20,
   "metadata": {},
   "outputs": [
    {
     "data": {
      "text/html": [
       "<div>\n",
       "<style scoped>\n",
       "    .dataframe tbody tr th:only-of-type {\n",
       "        vertical-align: middle;\n",
       "    }\n",
       "\n",
       "    .dataframe tbody tr th {\n",
       "        vertical-align: top;\n",
       "    }\n",
       "\n",
       "    .dataframe thead th {\n",
       "        text-align: right;\n",
       "    }\n",
       "</style>\n",
       "<table border=\"1\" class=\"dataframe\">\n",
       "  <thead>\n",
       "    <tr style=\"text-align: right;\">\n",
       "      <th></th>\n",
       "      <th>Mass</th>\n",
       "    </tr>\n",
       "    <tr>\n",
       "      <th>Sequence</th>\n",
       "      <th></th>\n",
       "    </tr>\n",
       "  </thead>\n",
       "  <tbody>\n",
       "    <tr>\n",
       "      <th>LPSGTMLIPMLAGAVLQSGQLITIELPEWLLAMAYMAIGWR</th>\n",
       "      <td>4454.364222</td>\n",
       "    </tr>\n",
       "    <tr>\n",
       "      <th>MMLGDNAEAVNQHIVWFPPVSINLLLTILLAVVAGTVGCLLR</th>\n",
       "      <td>4500.446312</td>\n",
       "    </tr>\n",
       "    <tr>\n",
       "      <th>ALRPLPQILLSIFALLAICAGMAWGLTR</th>\n",
       "      <td>3007.723132</td>\n",
       "    </tr>\n",
       "    <tr>\n",
       "      <th>YSSLPGNTGAWGSSPGGAAAMVAMAQDYGADIR</th>\n",
       "      <td>3228.460447</td>\n",
       "    </tr>\n",
       "  </tbody>\n",
       "</table>\n",
       "</div>"
      ],
      "text/plain": [
       "                                                   Mass\n",
       "Sequence                                               \n",
       "LPSGTMLIPMLAGAVLQSGQLITIELPEWLLAMAYMAIGWR   4454.364222\n",
       "MMLGDNAEAVNQHIVWFPPVSINLLLTILLAVVAGTVGCLLR  4500.446312\n",
       "ALRPLPQILLSIFALLAICAGMAWGLTR                3007.723132\n",
       "YSSLPGNTGAWGSSPGGAAAMVAMAQDYGADIR           3228.460447"
      ]
     },
     "execution_count": 20,
     "metadata": {},
     "output_type": "execute_result"
    }
   ],
   "source": [
    "# Calculate the masses of tryptic peptides\n",
    "for peptide in peptides2:\n",
    "    peptide['parsed_sequence'] = parser.parse(peptide['Sequence'],show_unmodified_termini=True)\n",
    "    peptide['length'] = parser.length(peptide['parsed_sequence']) \n",
    "    peptide['Mass'] = mass.calculate_mass(peptide['parsed_sequence'])\n",
    "peptidemass2 = pd.DataFrame(peptides2)\n",
    "columns_to_keep = ['Sequence', 'Mass']\n",
    "peptidemass2 = peptidemass2[columns_to_keep]\n",
    "peptidemass2 = peptidemass2.set_index('Sequence')\n",
    "peptidemass2.head(4)"
   ]
  },
  {
   "cell_type": "code",
   "execution_count": 21,
   "metadata": {},
   "outputs": [
    {
     "data": {
      "text/html": [
       "<div>\n",
       "<style scoped>\n",
       "    .dataframe tbody tr th:only-of-type {\n",
       "        vertical-align: middle;\n",
       "    }\n",
       "\n",
       "    .dataframe tbody tr th {\n",
       "        vertical-align: top;\n",
       "    }\n",
       "\n",
       "    .dataframe thead th {\n",
       "        text-align: right;\n",
       "    }\n",
       "</style>\n",
       "<table border=\"1\" class=\"dataframe\">\n",
       "  <thead>\n",
       "    <tr style=\"text-align: right;\">\n",
       "      <th></th>\n",
       "      <th>Mass</th>\n",
       "      <th>M/z +1 charge state</th>\n",
       "      <th>M/z +2 charge state</th>\n",
       "      <th>M/z +3 charge state</th>\n",
       "    </tr>\n",
       "    <tr>\n",
       "      <th>Sequence</th>\n",
       "      <th></th>\n",
       "      <th></th>\n",
       "      <th></th>\n",
       "      <th></th>\n",
       "    </tr>\n",
       "  </thead>\n",
       "  <tbody>\n",
       "    <tr>\n",
       "      <th>LPSGTMLIPMLAGAVLQSGQLITIELPEWLLAMAYMAIGWR</th>\n",
       "      <td>4454.364222</td>\n",
       "      <td>4455.371498</td>\n",
       "      <td>2228.189387</td>\n",
       "      <td>1485.795350</td>\n",
       "    </tr>\n",
       "    <tr>\n",
       "      <th>MMLGDNAEAVNQHIVWFPPVSINLLLTILLAVVAGTVGCLLR</th>\n",
       "      <td>4500.446312</td>\n",
       "      <td>4501.453588</td>\n",
       "      <td>2251.230432</td>\n",
       "      <td>1501.156047</td>\n",
       "    </tr>\n",
       "    <tr>\n",
       "      <th>ALRPLPQILLSIFALLAICAGMAWGLTR</th>\n",
       "      <td>3007.723132</td>\n",
       "      <td>3008.730408</td>\n",
       "      <td>1504.868842</td>\n",
       "      <td>1003.581654</td>\n",
       "    </tr>\n",
       "    <tr>\n",
       "      <th>YSSLPGNTGAWGSSPGGAAAMVAMAQDYGADIR</th>\n",
       "      <td>3228.460447</td>\n",
       "      <td>3229.467723</td>\n",
       "      <td>1615.237500</td>\n",
       "      <td>1077.160759</td>\n",
       "    </tr>\n",
       "  </tbody>\n",
       "</table>\n",
       "</div>"
      ],
      "text/plain": [
       "                                                   Mass  M/z +1 charge state  \\\n",
       "Sequence                                                                       \n",
       "LPSGTMLIPMLAGAVLQSGQLITIELPEWLLAMAYMAIGWR   4454.364222          4455.371498   \n",
       "MMLGDNAEAVNQHIVWFPPVSINLLLTILLAVVAGTVGCLLR  4500.446312          4501.453588   \n",
       "ALRPLPQILLSIFALLAICAGMAWGLTR                3007.723132          3008.730408   \n",
       "YSSLPGNTGAWGSSPGGAAAMVAMAQDYGADIR           3228.460447          3229.467723   \n",
       "\n",
       "                                            M/z +2 charge state  \\\n",
       "Sequence                                                          \n",
       "LPSGTMLIPMLAGAVLQSGQLITIELPEWLLAMAYMAIGWR           2228.189387   \n",
       "MMLGDNAEAVNQHIVWFPPVSINLLLTILLAVVAGTVGCLLR          2251.230432   \n",
       "ALRPLPQILLSIFALLAICAGMAWGLTR                        1504.868842   \n",
       "YSSLPGNTGAWGSSPGGAAAMVAMAQDYGADIR                   1615.237500   \n",
       "\n",
       "                                            M/z +3 charge state  \n",
       "Sequence                                                         \n",
       "LPSGTMLIPMLAGAVLQSGQLITIELPEWLLAMAYMAIGWR           1485.795350  \n",
       "MMLGDNAEAVNQHIVWFPPVSINLLLTILLAVVAGTVGCLLR          1501.156047  \n",
       "ALRPLPQILLSIFALLAICAGMAWGLTR                        1003.581654  \n",
       "YSSLPGNTGAWGSSPGGAAAMVAMAQDYGADIR                   1077.160759  "
      ]
     },
     "execution_count": 21,
     "metadata": {},
     "output_type": "execute_result"
    }
   ],
   "source": [
    "# Calculate the mass-to-charge of all tryptic peptides assuming they are ionized with +1 to +3 charge states\n",
    "for peptide in peptides2:\n",
    "    peptide['parsed_sequence'] = parser.parse(peptide['Sequence'],show_unmodified_termini=True)\n",
    "    peptide['length'] = parser.length(peptide['parsed_sequence']) \n",
    "    peptide['Mass'] = mass.calculate_mass(peptide['parsed_sequence'])\n",
    "    peptide['M/z +1 charge state'] = mass.calculate_mass(peptide['parsed_sequence'], charge=1)\n",
    "    peptide['M/z +2 charge state'] = mass.calculate_mass(peptide['parsed_sequence'], charge=2)\n",
    "    peptide['M/z +3 charge state'] = mass.calculate_mass(peptide['parsed_sequence'], charge=3)\n",
    "peptidemz2 = pd.DataFrame(peptides2)\n",
    "columns_to_keep = ['Sequence', 'Mass', 'M/z +1 charge state', 'M/z +2 charge state', 'M/z +3 charge state']\n",
    "peptidemz2 = peptidemz2[columns_to_keep]\n",
    "peptidemz2 = peptidemz2.set_index('Sequence')\n",
    "peptidemz2.head(4)"
   ]
  },
  {
   "cell_type": "code",
   "execution_count": 22,
   "metadata": {},
   "outputs": [],
   "source": [
    "# \"Search\" the peptide map data for each ion\n",
    "# TBD"
   ]
  },
  {
   "cell_type": "code",
   "execution_count": 24,
   "metadata": {},
   "outputs": [
    {
     "data": {
      "text/html": [
       "<div>\n",
       "<style scoped>\n",
       "    .dataframe tbody tr th:only-of-type {\n",
       "        vertical-align: middle;\n",
       "    }\n",
       "\n",
       "    .dataframe tbody tr th {\n",
       "        vertical-align: top;\n",
       "    }\n",
       "\n",
       "    .dataframe thead th {\n",
       "        text-align: right;\n",
       "    }\n",
       "</style>\n",
       "<table border=\"1\" class=\"dataframe\">\n",
       "  <thead>\n",
       "    <tr style=\"text-align: right;\">\n",
       "      <th></th>\n",
       "      <th>Number of Residues</th>\n",
       "      <th>% of Total</th>\n",
       "    </tr>\n",
       "    <tr>\n",
       "      <th>E.Coli Protein 1 Amino Acids</th>\n",
       "      <th></th>\n",
       "      <th></th>\n",
       "    </tr>\n",
       "  </thead>\n",
       "  <tbody>\n",
       "    <tr>\n",
       "      <th>M</th>\n",
       "      <td>20</td>\n",
       "      <td>5.747126</td>\n",
       "    </tr>\n",
       "    <tr>\n",
       "      <th>P</th>\n",
       "      <td>17</td>\n",
       "      <td>4.885057</td>\n",
       "    </tr>\n",
       "    <tr>\n",
       "      <th>V</th>\n",
       "      <td>23</td>\n",
       "      <td>6.609195</td>\n",
       "    </tr>\n",
       "    <tr>\n",
       "      <th>L</th>\n",
       "      <td>63</td>\n",
       "      <td>18.103448</td>\n",
       "    </tr>\n",
       "    <tr>\n",
       "      <th>Q</th>\n",
       "      <td>12</td>\n",
       "      <td>3.448276</td>\n",
       "    </tr>\n",
       "    <tr>\n",
       "      <th>W</th>\n",
       "      <td>8</td>\n",
       "      <td>2.298851</td>\n",
       "    </tr>\n",
       "    <tr>\n",
       "      <th>G</th>\n",
       "      <td>30</td>\n",
       "      <td>8.620690</td>\n",
       "    </tr>\n",
       "    <tr>\n",
       "      <th>C</th>\n",
       "      <td>4</td>\n",
       "      <td>1.149425</td>\n",
       "    </tr>\n",
       "    <tr>\n",
       "      <th>S</th>\n",
       "      <td>20</td>\n",
       "      <td>5.747126</td>\n",
       "    </tr>\n",
       "    <tr>\n",
       "      <th>I</th>\n",
       "      <td>30</td>\n",
       "      <td>8.620690</td>\n",
       "    </tr>\n",
       "    <tr>\n",
       "      <th>F</th>\n",
       "      <td>12</td>\n",
       "      <td>3.448276</td>\n",
       "    </tr>\n",
       "    <tr>\n",
       "      <th>A</th>\n",
       "      <td>49</td>\n",
       "      <td>14.080460</td>\n",
       "    </tr>\n",
       "    <tr>\n",
       "      <th>H</th>\n",
       "      <td>3</td>\n",
       "      <td>0.862069</td>\n",
       "    </tr>\n",
       "    <tr>\n",
       "      <th>R</th>\n",
       "      <td>14</td>\n",
       "      <td>4.022989</td>\n",
       "    </tr>\n",
       "    <tr>\n",
       "      <th>T</th>\n",
       "      <td>18</td>\n",
       "      <td>5.172414</td>\n",
       "    </tr>\n",
       "    <tr>\n",
       "      <th>N</th>\n",
       "      <td>7</td>\n",
       "      <td>2.011494</td>\n",
       "    </tr>\n",
       "    <tr>\n",
       "      <th>Y</th>\n",
       "      <td>6</td>\n",
       "      <td>1.724138</td>\n",
       "    </tr>\n",
       "    <tr>\n",
       "      <th>D</th>\n",
       "      <td>7</td>\n",
       "      <td>2.011494</td>\n",
       "    </tr>\n",
       "    <tr>\n",
       "      <th>E</th>\n",
       "      <td>3</td>\n",
       "      <td>0.862069</td>\n",
       "    </tr>\n",
       "    <tr>\n",
       "      <th>K</th>\n",
       "      <td>2</td>\n",
       "      <td>0.574713</td>\n",
       "    </tr>\n",
       "  </tbody>\n",
       "</table>\n",
       "</div>"
      ],
      "text/plain": [
       "                              Number of Residues  % of Total\n",
       "E.Coli Protein 1 Amino Acids                                \n",
       "M                                             20    5.747126\n",
       "P                                             17    4.885057\n",
       "V                                             23    6.609195\n",
       "L                                             63   18.103448\n",
       "Q                                             12    3.448276\n",
       "W                                              8    2.298851\n",
       "G                                             30    8.620690\n",
       "C                                              4    1.149425\n",
       "S                                             20    5.747126\n",
       "I                                             30    8.620690\n",
       "F                                             12    3.448276\n",
       "A                                             49   14.080460\n",
       "H                                              3    0.862069\n",
       "R                                             14    4.022989\n",
       "T                                             18    5.172414\n",
       "N                                              7    2.011494\n",
       "Y                                              6    1.724138\n",
       "D                                              7    2.011494\n",
       "E                                              3    0.862069\n",
       "K                                              2    0.574713"
      ]
     },
     "execution_count": 24,
     "metadata": {},
     "output_type": "execute_result"
    }
   ],
   "source": [
    "# How many amino acids (% of total) are in the protein?\n",
    "\n",
    "# Determine amino acid composition of the protein\n",
    "aacomp2 = parser.amino_acid_composition(ecoliprotein1)\n",
    "aacomp2\n",
    "\n",
    "# split dictionary into keys and values\n",
    "aakeys2 = aacomp2.keys() \n",
    "aavalues2 = aacomp2.values()\n",
    "\n",
    "# create DataFrame for amino acids in protein\n",
    "aacompdf2 = pd.DataFrame(aavalues2, index = aakeys2)\n",
    "aacompdf2 = aacompdf2.rename_axis('E.Coli Protein 1 Amino Acids')\n",
    "aacompdf2 = aacompdf2.rename(columns={0: 'Number of Residues'})\n",
    "\n",
    "# Calculate individual amino acid % of total\n",
    "aacompdf2['% of Total'] = (aacompdf2['Number of Residues'])/(aacompdf2['Number of Residues'].sum())*100\n",
    "aacompdf2"
   ]
  },
  {
   "cell_type": "markdown",
   "metadata": {},
   "source": [
    "##### Finally, I used this process on a single protein FASTA, rather than selecting one protein from a full proteome file."
   ]
  },
  {
   "cell_type": "markdown",
   "metadata": {},
   "source": [
    "## Protein 3 - Acetyl-coenzyme A carboxylase carboxyl transferase subunit beta, chloroplastic"
   ]
  },
  {
   "cell_type": "markdown",
   "metadata": {},
   "source": [
    "When using UniProt, the Fasta of just one protein downloads to a web archive file. This makes the heading hard to deal with, and it becomes a part of the sequence when trying to iterate (see first code box). To fix this, I stripped the characters from before and after the amino acid sequence. (This is not very efficient for future files, but I could not figure out a better way to deal with the format at the moment.) https://www.uniprot.org/uniprot/A6MML6"
   ]
  },
  {
   "cell_type": "code",
   "execution_count": 29,
   "metadata": {},
   "outputs": [
    {
     "name": "stdout",
     "output_type": "stream",
     "text": [
      "From web: ^WebResourceURL_\u0010\u0014WebResourceFrameName_\u0010\u000fWebResourceData_\u0010\u0013WebResourceMIMEType_\u0010\u001bWebResourceTextEncodingName_\u0010,https://www.uniprot.org/uniprot/A6MML6.fastaPO\u0011\u0002ø<html><head></head><body><pre style=\"word-wrap: break-word; white-space: pre-wrap;\">&gt;sp|A6MML6|ACCD_DIOEL Acetyl-coenzyme A carboxylase carboxyl transferase subunit beta, chloroplastic OS=Dioscorea elephantipes OX=145284 GN=accD PE=3 SV=2MEKWWWFNSILSNERLEHRYGLSKSMDSVNGIEYTKDPILNDTEKNILGWSDSSNYSFSTVDYLFEIRNIWSLISDDTFLVRDSNGDSYSVYFDIENQIFEIDNNSSFLGELESFFSSYLNRGSKNKYYHYMYDTQFSWNNHITNCIDSYLRFEIGISITSYISGDIVNYSDGYIYSFICTESVSSNESGSSSIRTSSNGSDFNMRENSNDSDINKKYRHLWVQCENCYGLNYKKFFRSKMNICEQCGYHLKMSSSDRIEVSIDPDTWDPMDEDMVSIDPIEFHSEEEPYRDRIDSYQRKTGLTEAIQTGIGQLNGIPIAIGVMDFQFMGGSMGSVVGEKITRLIEYATNESLPVIIVCASGGARMQEGSLSLMQMAKISSASYNYQSNKKLFYVSILTSPTTGGVTASFGMLGDVIIAEPNAYIAFAGKRVIEQTLNKTVPDGSQSAEYLFHKGLFDPIVPRNPLKGVLSELFQLHGFLPLNQNKKEN</pre></body></html>Ztext/plainUUTF-8\u0000\b\u0000\u0000\u0000(\u00007\u0000N\u0000`\u0000v\u0000\u0000Ã\u0000Ä\u0003À\u0003Ë\u0000\u0000\u0000\u0000\u0000\u0000\u0002\u0001\u0000\u0000\u0000\u0000\u0000\u0000\u0000\u0000\u0000\u0000\u0000\u0000\u0000\u0000\u0000\u0000\u0000\u0000\u0000\u0000\u0000\u0003Ñ\n",
      "\n",
      "Stripped sequence: MEKWWWFNSILSNERLEHRYGLSKSMDSVNGIEYTKDPILNDTEKNILGWSDSSNYSFSTVDYLFEIRNIWSLISDDTFLVRDSNGDSYSVYFDIENQIFEIDNNSSFLGELESFFSSYLNRGSKNKYYHYMYDTQFSWNNHITNCIDSYLRFEIGISITSYISGDIVNYSDGYIYSFICTESVSSNESGSSSIRTSSNGSDFNMRENSNDSDINKKYRHLWVQCENCYGLNYKKFFRSKMNICEQCGYHLKMSSSDRIEVSIDPDTWDPMDEDMVSIDPIEFHSEEEPYRDRIDSYQRKTGLTEAIQTGIGQLNGIPIAIGVMDFQFMGGSMGSVVGEKITRLIEYATNESLPVIIVCASGGARMQEGSLSLMQMAKISSASYNYQSNKKLFYVSILTSPTTGGVTASFGMLGDVIIAEPNAYIAFAGKRVIEQTLNKTVPDGSQSAEYLFHKGLFDPIVPRNPLKGVLSELFQLHGFLPLNQNKKEN\n"
     ]
    }
   ],
   "source": [
    "# Read in a fasta file with just one protein sequence\n",
    "# add encoding = latin-1 to get rid of byte errors\n",
    "with fasta.read('/Users/sarahkurpiers/Documents/Genentech/A6MML6.fasta', encoding='latin-1') as protein3:\n",
    "    for descr, seq in protein3:\n",
    "        print('From web:', seq)\n",
    "seq = seq.strip('^WebResourceURL_\u0010\u0014WebResourceFrameName_\u0010\u000fWebResourceData_\u0010\u0013WebResourceMIMEType_\u0010\u001bWebResourceTextEncodingName_\u0010,https://www.uniprot.org/uniprot/A6MML6.fastaPO\u0011\u0002ø<html><head></head><body><pre style=\"word-wrap: break-word; white-space: pre-wrap;\">&gt;sp|A6MML6|ACCD_DIOEL Acetyl-coenzyme A carboxylase carboxyl transferase subunit beta, chloroplastic OS=Dioscorea elephantipes OX=145284 GN=accD PE=3 S')\n",
    "seq = seq.rstrip('</body></html>Ztext/plainUUTF-8\\x00\\x08\\x00\\x00\\x00(\\x007\\x00N\\x00`\\x00v\\x00\\x94\\x00Ã\\x00Ä\\x03À\\x03Ë\\x00\\x00\\x00\\x00\\x00\\x00\\x02\\x01\\x00\\x00\\x00\\x00\\x00\\x00\\x00\\x00\\x00\\x00\\x00\\x00\\x00\\x00\\x00\\x00\\x00\\x00\\x00\\x00\\x00\\x03Ñ')\n",
    "seq = seq.strip('V=2')\n",
    "seq = seq.rstrip('</pr')\n",
    "print('')\n",
    "print('Stripped sequence:', seq)"
   ]
  },
  {
   "cell_type": "code",
   "execution_count": 30,
   "metadata": {},
   "outputs": [
    {
     "name": "stdout",
     "output_type": "stream",
     "text": [
      "Cleaving the protein with trypsin...\n",
      "Done, 38 sequences obtained!\n"
     ]
    },
    {
     "data": {
      "text/plain": [
       "{'DPILNDTEK',\n",
       " 'DR',\n",
       " 'DSNGDSYSVYFDIENQIFEIDNNSSFLGELESFFSSYLNR',\n",
       " 'EN',\n",
       " 'ENSNDSDINK',\n",
       " 'FEIGISITSYISGDIVNYSDGYIYSFICTESVSSNESGSSSIR',\n",
       " 'FFR',\n",
       " 'GLFDPIVPR',\n",
       " 'GSK',\n",
       " 'GVLSELFQLHGFLPLNQNK',\n",
       " 'HLWVQCENCYGLNYK',\n",
       " 'IDSYQR',\n",
       " 'IEVSIDPDTWDPMDEDMVSIDPIEFHSEEEPYR',\n",
       " 'ISSASYNYQSNK',\n",
       " 'ITR',\n",
       " 'K',\n",
       " 'LEHR',\n",
       " 'LFYVSILTSPTTGGVTASFGMLGDVIIAEPNAYIAFAGK',\n",
       " 'LIEYATNESLPVIIVCASGGAR',\n",
       " 'MEK',\n",
       " 'MNICEQCGYHLK',\n",
       " 'MQEGSLSLMQMAK',\n",
       " 'MSSSDR',\n",
       " 'NILGWSDSSNYSFSTVDYLFEIR',\n",
       " 'NIWSLISDDTFLVR',\n",
       " 'NK',\n",
       " 'NPLK',\n",
       " 'R',\n",
       " 'SK',\n",
       " 'SMDSVNGIEYTK',\n",
       " 'TGLTEAIQTGIGQLNGIPIAIGVMDFQFMGGSMGSVVGEK',\n",
       " 'TSSNGSDFNMR',\n",
       " 'TVPDGSQSAEYLFHK',\n",
       " 'VIEQTLNK',\n",
       " 'WWWFNSILSNER',\n",
       " 'YGLSK',\n",
       " 'YR',\n",
       " 'YYHYMYDTQFSWNNHITNCIDSYLR'}"
      ]
     },
     "execution_count": 30,
     "metadata": {},
     "output_type": "execute_result"
    }
   ],
   "source": [
    "# 'Digest' the sequence with trypsin\n",
    "print('Cleaving the protein with trypsin...')\n",
    "unique_peptides3 = set()\n",
    "new_peptides3 = parser.cleave(seq, parser.expasy_rules['trypsin'])\n",
    "unique_peptides3.update(new_peptides3)\n",
    "print('Done, {0} sequences obtained!'.format(len(unique_peptides3)))\n",
    "unique_peptides3"
   ]
  },
  {
   "cell_type": "code",
   "execution_count": 31,
   "metadata": {},
   "outputs": [],
   "source": [
    "# Create dict of peptides\n",
    "peptides3 = [{'Sequence': i} for i in unique_peptides3]"
   ]
  },
  {
   "cell_type": "code",
   "execution_count": 32,
   "metadata": {},
   "outputs": [
    {
     "data": {
      "text/html": [
       "<div>\n",
       "<style scoped>\n",
       "    .dataframe tbody tr th:only-of-type {\n",
       "        vertical-align: middle;\n",
       "    }\n",
       "\n",
       "    .dataframe tbody tr th {\n",
       "        vertical-align: top;\n",
       "    }\n",
       "\n",
       "    .dataframe thead th {\n",
       "        text-align: right;\n",
       "    }\n",
       "</style>\n",
       "<table border=\"1\" class=\"dataframe\">\n",
       "  <thead>\n",
       "    <tr style=\"text-align: right;\">\n",
       "      <th></th>\n",
       "      <th>mass</th>\n",
       "    </tr>\n",
       "    <tr>\n",
       "      <th>Sequence</th>\n",
       "      <th></th>\n",
       "    </tr>\n",
       "  </thead>\n",
       "  <tbody>\n",
       "    <tr>\n",
       "      <th>DPILNDTEK</th>\n",
       "      <td>1043.513505</td>\n",
       "    </tr>\n",
       "    <tr>\n",
       "      <th>VIEQTLNK</th>\n",
       "      <td>943.533846</td>\n",
       "    </tr>\n",
       "    <tr>\n",
       "      <th>MNICEQCGYHLK</th>\n",
       "      <td>1437.620312</td>\n",
       "    </tr>\n",
       "    <tr>\n",
       "      <th>IDSYQR</th>\n",
       "      <td>780.376617</td>\n",
       "    </tr>\n",
       "  </tbody>\n",
       "</table>\n",
       "</div>"
      ],
      "text/plain": [
       "                     mass\n",
       "Sequence                 \n",
       "DPILNDTEK     1043.513505\n",
       "VIEQTLNK       943.533846\n",
       "MNICEQCGYHLK  1437.620312\n",
       "IDSYQR         780.376617"
      ]
     },
     "execution_count": 32,
     "metadata": {},
     "output_type": "execute_result"
    }
   ],
   "source": [
    "# Calculate the masses of tryptic peptides\n",
    "for peptide in peptides3:\n",
    "    peptide['parsed_sequence'] = parser.parse(peptide['Sequence'],show_unmodified_termini=True)\n",
    "    peptide['length'] = parser.length(peptide['parsed_sequence']) \n",
    "    peptide['mass'] = mass.calculate_mass(peptide['parsed_sequence'])\n",
    "peptidemass3 = pd.DataFrame(peptides3)\n",
    "columns_to_keep = ['Sequence', 'mass']\n",
    "peptidemass3 = peptidemass3[columns_to_keep]\n",
    "peptidemass3 = peptidemass3.set_index('Sequence')\n",
    "peptidemass3.head(4)"
   ]
  },
  {
   "cell_type": "code",
   "execution_count": 33,
   "metadata": {},
   "outputs": [
    {
     "data": {
      "text/html": [
       "<div>\n",
       "<style scoped>\n",
       "    .dataframe tbody tr th:only-of-type {\n",
       "        vertical-align: middle;\n",
       "    }\n",
       "\n",
       "    .dataframe tbody tr th {\n",
       "        vertical-align: top;\n",
       "    }\n",
       "\n",
       "    .dataframe thead th {\n",
       "        text-align: right;\n",
       "    }\n",
       "</style>\n",
       "<table border=\"1\" class=\"dataframe\">\n",
       "  <thead>\n",
       "    <tr style=\"text-align: right;\">\n",
       "      <th></th>\n",
       "      <th>Mass</th>\n",
       "      <th>M/z +1 charge state</th>\n",
       "      <th>M/z +2 charge state</th>\n",
       "      <th>M/z +3 charge state</th>\n",
       "    </tr>\n",
       "    <tr>\n",
       "      <th>Sequence</th>\n",
       "      <th></th>\n",
       "      <th></th>\n",
       "      <th></th>\n",
       "      <th></th>\n",
       "    </tr>\n",
       "  </thead>\n",
       "  <tbody>\n",
       "    <tr>\n",
       "      <th>DPILNDTEK</th>\n",
       "      <td>1043.513505</td>\n",
       "      <td>1044.520781</td>\n",
       "      <td>522.764029</td>\n",
       "      <td>348.845111</td>\n",
       "    </tr>\n",
       "    <tr>\n",
       "      <th>VIEQTLNK</th>\n",
       "      <td>943.533846</td>\n",
       "      <td>944.541123</td>\n",
       "      <td>472.774200</td>\n",
       "      <td>315.518558</td>\n",
       "    </tr>\n",
       "    <tr>\n",
       "      <th>MNICEQCGYHLK</th>\n",
       "      <td>1437.620312</td>\n",
       "      <td>1438.627589</td>\n",
       "      <td>719.817433</td>\n",
       "      <td>480.214047</td>\n",
       "    </tr>\n",
       "    <tr>\n",
       "      <th>IDSYQR</th>\n",
       "      <td>780.376617</td>\n",
       "      <td>781.383894</td>\n",
       "      <td>391.195585</td>\n",
       "      <td>261.132816</td>\n",
       "    </tr>\n",
       "  </tbody>\n",
       "</table>\n",
       "</div>"
      ],
      "text/plain": [
       "                     Mass  M/z +1 charge state  M/z +2 charge state  \\\n",
       "Sequence                                                              \n",
       "DPILNDTEK     1043.513505          1044.520781           522.764029   \n",
       "VIEQTLNK       943.533846           944.541123           472.774200   \n",
       "MNICEQCGYHLK  1437.620312          1438.627589           719.817433   \n",
       "IDSYQR         780.376617           781.383894           391.195585   \n",
       "\n",
       "              M/z +3 charge state  \n",
       "Sequence                           \n",
       "DPILNDTEK              348.845111  \n",
       "VIEQTLNK               315.518558  \n",
       "MNICEQCGYHLK           480.214047  \n",
       "IDSYQR                 261.132816  "
      ]
     },
     "execution_count": 33,
     "metadata": {},
     "output_type": "execute_result"
    }
   ],
   "source": [
    "# Calculate the mass-to-charge of all tryptic peptides assuming they are ionized with +1 and +3 charge states\n",
    "for peptide in peptides3:\n",
    "    peptide['parsed_sequence'] = parser.parse(peptide['Sequence'],show_unmodified_termini=True)\n",
    "    peptide['length'] = parser.length(peptide['parsed_sequence']) \n",
    "    peptide['Mass'] = mass.calculate_mass(peptide['parsed_sequence'])\n",
    "    peptide['M/z +1 charge state'] = mass.calculate_mass(peptide['parsed_sequence'], charge=1)\n",
    "    peptide['M/z +2 charge state'] = mass.calculate_mass(peptide['parsed_sequence'], charge=2)\n",
    "    peptide['M/z +3 charge state'] = mass.calculate_mass(peptide['parsed_sequence'], charge=3)\n",
    "peptidemz3 = pd.DataFrame(peptides3)\n",
    "columns_to_keep = ['Sequence', 'Mass', 'M/z +1 charge state', 'M/z +2 charge state', 'M/z +3 charge state']\n",
    "peptidemz3 = peptidemz3[columns_to_keep]\n",
    "peptidemz3 = peptidemz3.set_index('Sequence')\n",
    "peptidemz3.head(4)"
   ]
  },
  {
   "cell_type": "code",
   "execution_count": 34,
   "metadata": {},
   "outputs": [],
   "source": [
    "# \"Search\" the peptide map data for each ion"
   ]
  },
  {
   "cell_type": "code",
   "execution_count": 35,
   "metadata": {},
   "outputs": [],
   "source": [
    "# TBD"
   ]
  },
  {
   "cell_type": "code",
   "execution_count": 36,
   "metadata": {},
   "outputs": [
    {
     "data": {
      "text/html": [
       "<div>\n",
       "<style scoped>\n",
       "    .dataframe tbody tr th:only-of-type {\n",
       "        vertical-align: middle;\n",
       "    }\n",
       "\n",
       "    .dataframe tbody tr th {\n",
       "        vertical-align: top;\n",
       "    }\n",
       "\n",
       "    .dataframe thead th {\n",
       "        text-align: right;\n",
       "    }\n",
       "</style>\n",
       "<table border=\"1\" class=\"dataframe\">\n",
       "  <thead>\n",
       "    <tr style=\"text-align: right;\">\n",
       "      <th></th>\n",
       "      <th>Number of Residues</th>\n",
       "      <th>% of Total</th>\n",
       "    </tr>\n",
       "    <tr>\n",
       "      <th>Acetyl-coenzyme A Amino Acids</th>\n",
       "      <th></th>\n",
       "      <th></th>\n",
       "    </tr>\n",
       "  </thead>\n",
       "  <tbody>\n",
       "    <tr>\n",
       "      <th>M</th>\n",
       "      <td>15</td>\n",
       "      <td>3.067485</td>\n",
       "    </tr>\n",
       "    <tr>\n",
       "      <th>E</th>\n",
       "      <td>32</td>\n",
       "      <td>6.543967</td>\n",
       "    </tr>\n",
       "    <tr>\n",
       "      <th>K</th>\n",
       "      <td>23</td>\n",
       "      <td>4.703476</td>\n",
       "    </tr>\n",
       "    <tr>\n",
       "      <th>W</th>\n",
       "      <td>8</td>\n",
       "      <td>1.635992</td>\n",
       "    </tr>\n",
       "    <tr>\n",
       "      <th>F</th>\n",
       "      <td>25</td>\n",
       "      <td>5.112474</td>\n",
       "    </tr>\n",
       "    <tr>\n",
       "      <th>N</th>\n",
       "      <td>36</td>\n",
       "      <td>7.361963</td>\n",
       "    </tr>\n",
       "    <tr>\n",
       "      <th>S</th>\n",
       "      <td>64</td>\n",
       "      <td>13.087935</td>\n",
       "    </tr>\n",
       "    <tr>\n",
       "      <th>I</th>\n",
       "      <td>43</td>\n",
       "      <td>8.793456</td>\n",
       "    </tr>\n",
       "    <tr>\n",
       "      <th>L</th>\n",
       "      <td>33</td>\n",
       "      <td>6.748466</td>\n",
       "    </tr>\n",
       "    <tr>\n",
       "      <th>R</th>\n",
       "      <td>18</td>\n",
       "      <td>3.680982</td>\n",
       "    </tr>\n",
       "    <tr>\n",
       "      <th>H</th>\n",
       "      <td>8</td>\n",
       "      <td>1.635992</td>\n",
       "    </tr>\n",
       "    <tr>\n",
       "      <th>Y</th>\n",
       "      <td>28</td>\n",
       "      <td>5.725971</td>\n",
       "    </tr>\n",
       "    <tr>\n",
       "      <th>G</th>\n",
       "      <td>34</td>\n",
       "      <td>6.952965</td>\n",
       "    </tr>\n",
       "    <tr>\n",
       "      <th>D</th>\n",
       "      <td>31</td>\n",
       "      <td>6.339468</td>\n",
       "    </tr>\n",
       "    <tr>\n",
       "      <th>V</th>\n",
       "      <td>21</td>\n",
       "      <td>4.294479</td>\n",
       "    </tr>\n",
       "    <tr>\n",
       "      <th>T</th>\n",
       "      <td>21</td>\n",
       "      <td>4.294479</td>\n",
       "    </tr>\n",
       "    <tr>\n",
       "      <th>P</th>\n",
       "      <td>14</td>\n",
       "      <td>2.862986</td>\n",
       "    </tr>\n",
       "    <tr>\n",
       "      <th>Q</th>\n",
       "      <td>15</td>\n",
       "      <td>3.067485</td>\n",
       "    </tr>\n",
       "    <tr>\n",
       "      <th>C</th>\n",
       "      <td>7</td>\n",
       "      <td>1.431493</td>\n",
       "    </tr>\n",
       "    <tr>\n",
       "      <th>A</th>\n",
       "      <td>13</td>\n",
       "      <td>2.658487</td>\n",
       "    </tr>\n",
       "  </tbody>\n",
       "</table>\n",
       "</div>"
      ],
      "text/plain": [
       "                               Number of Residues  % of Total\n",
       "Acetyl-coenzyme A Amino Acids                                \n",
       "M                                              15    3.067485\n",
       "E                                              32    6.543967\n",
       "K                                              23    4.703476\n",
       "W                                               8    1.635992\n",
       "F                                              25    5.112474\n",
       "N                                              36    7.361963\n",
       "S                                              64   13.087935\n",
       "I                                              43    8.793456\n",
       "L                                              33    6.748466\n",
       "R                                              18    3.680982\n",
       "H                                               8    1.635992\n",
       "Y                                              28    5.725971\n",
       "G                                              34    6.952965\n",
       "D                                              31    6.339468\n",
       "V                                              21    4.294479\n",
       "T                                              21    4.294479\n",
       "P                                              14    2.862986\n",
       "Q                                              15    3.067485\n",
       "C                                               7    1.431493\n",
       "A                                              13    2.658487"
      ]
     },
     "execution_count": 36,
     "metadata": {},
     "output_type": "execute_result"
    }
   ],
   "source": [
    "# How many amino acids (% of total) are in the protein?\n",
    "\n",
    "# Determine amino acod composition\n",
    "aacomp3 = parser.amino_acid_composition(seq)\n",
    "aacomp3\n",
    "\n",
    "# Split dictionary into keys and values\n",
    "aakeys3 = aacomp3.keys() \n",
    "aavalues3 = aacomp3.values()\n",
    "\n",
    "# Sreate DataFrame for amino acids in protein\n",
    "aacompdf3 = pd.DataFrame(aavalues3, index = aakeys3)\n",
    "aacompdf3 = aacompdf3.rename_axis('Acetyl-coenzyme A Amino Acids')\n",
    "aacompdf3 = aacompdf3.rename(columns={0: 'Number of Residues'})\n",
    "\n",
    "# Calculate individual amino acid % of total\n",
    "aacompdf3['% of Total'] = (aacompdf3['Number of Residues'])/(aacompdf3['Number of Residues'].sum())*100\n",
    "aacompdf3"
   ]
  },
  {
   "cell_type": "code",
   "execution_count": 50,
   "metadata": {},
   "outputs": [],
   "source": [
    "from pyteomics import mgf, pepxml\n",
    "import pylab"
   ]
  },
  {
   "cell_type": "markdown",
   "metadata": {},
   "source": [
    "# Part 3: Reading in a MGF file and comparing to pepXML identification info"
   ]
  },
  {
   "cell_type": "code",
   "execution_count": 47,
   "metadata": {},
   "outputs": [],
   "source": [
    "# Defines function that will give m/z of theoretical fragments for a given sequence. \n",
    "# pyteomics.mass.fast_mass() is used to calculate. The sequence is split at every bond and the function \n",
    "# iterates over possible charges and ion types\n",
    "\n",
    "def fragments(peptide, types=('b', 'y'), maxcharge=3):\n",
    "    \"\"\"\n",
    "    The function generates all possible m/z for fragments of types \n",
    "    `types` and of charges from 1 to `maxcharge`.\n",
    "    \"\"\"\n",
    "    for i in xrange(1, len(peptide)-1):\n",
    "        for ion_type in types:\n",
    "            for charge in xrange(1, maxcharge+1):\n",
    "                if ion_type[0] in 'abc':\n",
    "                    yield mass.fast_mass(\n",
    "                            peptide[:i], ion_type=ion_type, charge=charge)\n",
    "                else:\n",
    "                    yield mass.fast_mass(\n",
    "                            peptide[i:], ion_type=ion_type, charge=charge)"
   ]
  },
  {
   "cell_type": "code",
   "execution_count": 44,
   "metadata": {},
   "outputs": [
    {
     "data": {
      "text/plain": [
       "{'params': {'title': 'GPAAIQK', 'pepmass': (342.70559, None), 'charge': [2]},\n",
       " 'm/z array': array([155.08127, 176.77814, 177.11287, 226.11824, 229.64627, 265.16449,\n",
       "        265.66641, 269.16089, 275.1712 , 297.15521, 314.19504, 314.69733,\n",
       "        325.18619, 343.20746, 343.70929, 382.2438 , 388.25513, 389.25903,\n",
       "        392.22888, 408.18784, 409.19104, 410.23959, 411.24402, 457.28772,\n",
       "        459.29205, 460.29568, 493.27762, 513.3031 , 520.28723, 521.27124,\n",
       "        522.27612, 530.32843, 531.33197, 532.33423, 536.24768, 538.29736,\n",
       "        539.30054, 540.31415, 554.29248, 555.29999, 556.30743]),\n",
       " 'intensity array': array([  2297.6,   7543.8,   2635.6,   5689.8,   5041.8,  17045.5,\n",
       "          3543.8,   3408.9,   2846.8,   8410.6,   6265.5,   2129. ,\n",
       "          3157.4,   4456.9,   4044.3,   3641.6,  42239.4,   6749.8,\n",
       "          2317.6,   9400.2,   2566.7,  20488. ,   4645. ,   4824.5,\n",
       "        139345.9,  35741.9,   3401.2,   6745.2,   2995.6,  10339.9,\n",
       "          2187.7, 378102.2, 120362.4,   4397.7,   2892.8,  48038.7,\n",
       "         19576.1,   5875.1,   6512.6,   2296. ,   3520.2]),\n",
       " 'charge array': masked_array(data=[--, --, --, --, --, --, --, --, --, --, --, --, --, --,\n",
       "                    --, --, --, --, --, --, --, --, --, --, --, --, --, --,\n",
       "                    --, --, --, --, --, --, --, --, --, --, --, --, --],\n",
       "              mask=[ True,  True,  True,  True,  True,  True,  True,  True,\n",
       "                     True,  True,  True,  True,  True,  True,  True,  True,\n",
       "                     True,  True,  True,  True,  True,  True,  True,  True,\n",
       "                     True,  True,  True,  True,  True,  True,  True,  True,\n",
       "                     True,  True,  True,  True,  True,  True,  True,  True,\n",
       "                     True],\n",
       "        fill_value=0,\n",
       "             dtype=int64)}"
      ]
     },
     "execution_count": 44,
     "metadata": {},
     "output_type": "execute_result"
    }
   ],
   "source": [
    "with mgf.read('/Users/sarahkurpiers/Documents/Genentech/example.mgf') as spectra, pepxml.read('/Users/sarahkurpiers/Documents/Genentech/example.pep.xml') as psms:\n",
    "    spectrum = next(spectra)\n",
    "    psm = next(psms)\n",
    "spectrum"
   ]
  },
  {
   "cell_type": "code",
   "execution_count": 45,
   "metadata": {},
   "outputs": [
    {
     "data": {
      "text/plain": [
       "{'spectrum': '',\n",
       " 'precursor_neutral_mass': 683.3966,\n",
       " 'assumed_charge': 2,\n",
       " 'start_scan': 1,\n",
       " 'end_scan': 1,\n",
       " 'index': 1,\n",
       " 'search_hit': [{'hit_rank': 1,\n",
       "   'peptide': 'GPAAIQK',\n",
       "   'num_tot_proteins': 1,\n",
       "   'num_matched_ions': 8,\n",
       "   'tot_num_ions': 12,\n",
       "   'num_missed_cleavages': 0,\n",
       "   'search_score': {'hyperscore': 23.2,\n",
       "    'nextscore': 17.3,\n",
       "    'bscore': 6.6,\n",
       "    'yscore': 12.1,\n",
       "    'cscore': 0.0,\n",
       "    'zscore': 0.0,\n",
       "    'ascore': 0.0,\n",
       "    'xscore': 0.0,\n",
       "    'expect': 1.3},\n",
       "   'calc_neutral_pep_mass': 683.3966,\n",
       "   'massdiff': 0.0,\n",
       "   'is_rejected': False,\n",
       "   'proteins': [{'protein': 'sp|P35527|K1C9_HUMAN',\n",
       "     'protein_descr': 'Keratin, type I cytoskeletal 9 OS=Homo sapiens GN=KRT9 PE=1 SV=3',\n",
       "     'peptide_next_aa': 'N',\n",
       "     'peptide_prev_aa': 'K',\n",
       "     'num_tol_term': 2}],\n",
       "   'modified_peptide': 'GPAAIQK',\n",
       "   'modifications': []}]}"
      ]
     },
     "execution_count": 45,
     "metadata": {},
     "output_type": "execute_result"
    }
   ],
   "source": [
    "psm"
   ]
  },
  {
   "cell_type": "code",
   "execution_count": 51,
   "metadata": {},
   "outputs": [
    {
     "data": {
      "text/plain": [
       "<BarContainer object of 41 artists>"
      ]
     },
     "execution_count": 51,
     "metadata": {},
     "output_type": "execute_result"
    },
    {
     "data": {
      "image/png": "[encoded data removed]",
      "text/plain": [
       "<Figure size 432x288 with 1 Axes>"
      ]
     },
     "metadata": {
      "needs_background": "light"
     },
     "output_type": "display_data"
    }
   ],
   "source": [
    "# Prepare figure\n",
    "pylab.figure()\n",
    "pylab.title('Theoretical and experimental spectra for '\n",
    "        + psm['search_hit'][0]['peptide'])\n",
    "pylab.xlabel('m/z, Th')\n",
    "pylab.ylabel('Intensity, rel. units')\n",
    "\n",
    "# Plot real spectrum\n",
    "pylab.bar(spectrum['m/z array'], spectrum['intensity array'], width=0.1, linewidth=2,\n",
    "        edgecolor='black')"
   ]
  },
  {
   "cell_type": "code",
   "execution_count": 55,
   "metadata": {},
   "outputs": [],
   "source": [
    "try:\n",
    "    # Python 2\n",
    "    xrange\n",
    "except NameError:\n",
    "    # Python 3, xrange is now named range\n",
    "    xrange = range\n",
    "\n",
    "# Python 2 code that uses xrange(...) unchanged, and any\n",
    "# range(...) replaced with list(range(...))"
   ]
  },
  {
   "cell_type": "code",
   "execution_count": 54,
   "metadata": {},
   "outputs": [
    {
     "data": {
      "image/png": "[encoded data removed]",
      "text/plain": [
       "<Figure size 432x288 with 1 Axes>"
      ]
     },
     "metadata": {
      "needs_background": "light"
     },
     "output_type": "display_data"
    }
   ],
   "source": [
    "# The most intensive peaks in the spectrum are indeed matched by the theoretical spectrum\n",
    "theor_spectrum = list(fragments(psm['search_hit'][0]['peptide'],\n",
    "    maxcharge=psm['assumed_charge']))\n",
    "pylab.bar(theor_spectrum,\n",
    "        [spectrum['intensity array'].max()]*len(theor_spectrum),\n",
    "        width=0.1, edgecolor='red', alpha=0.7)\n",
    "pylab.show()"
   ]
  },
  {
   "cell_type": "code",
   "execution_count": null,
   "metadata": {},
   "outputs": [],
   "source": []
  }
 ],
 "metadata": {
  "kernelspec": {
   "display_name": "Python 3",
   "language": "python",
   "name": "python3"
  },
  "language_info": {
   "codemirror_mode": {
    "name": "ipython",
    "version": 3
   },
   "file_extension": ".py",
   "mimetype": "text/x-python",
   "name": "python",
   "nbconvert_exporter": "python",
   "pygments_lexer": "ipython3",
   "version": "3.7.3"
  }
 },
 "nbformat": 4,
 "nbformat_minor": 2
}
